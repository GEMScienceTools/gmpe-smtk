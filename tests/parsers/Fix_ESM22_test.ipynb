{
 "cells": [
  {
   "cell_type": "code",
   "execution_count": 1,
   "id": "efaba74e-0136-4712-a96e-00397643cd0a",
   "metadata": {},
   "outputs": [],
   "source": [
    "import os\n",
    "import shutil\n",
    "from smtk.parsers.esm23_flatfile_parser import ESM23FlatfileParser\n",
    "import pickle\n",
    "import numpy as np"
   ]
  },
  {
   "cell_type": "code",
   "execution_count": 2,
   "id": "3d58c9d5-3b93-42fe-9e7c-ec2008edb099",
   "metadata": {},
   "outputs": [],
   "source": [
    "#Paths to specify when running the ESM22 parser\n",
    "\n",
    "DATA = os.path.abspath('')\n",
    "\n",
    "ESM22_flatfile_directory = os.path.join(DATA,'data','ESM23_Greece_test.csv')\n",
    "\n",
    "output_path_for_converted_flatfile = os.path.join(DATA,'data','converted_ESM23_Greece_test.csv')\n",
    "\n",
    "#Output path for created metadata used in SMTK\n",
    "output_database = os.path.join(DATA,'data','ESM23_conversion_test_metadata')\n",
    "if os.path.exists(output_database):\n",
    "   shutil.rmtree(output_database)\n",
    "\n",
    "#Path to converted flatfile to be parsed (same as output path for converted flatfile)\n",
    "input_fileset = output_path_for_converted_flatfile"
   ]
  },
  {
   "cell_type": "code",
   "execution_count": 3,
   "id": "dee0d012-7292-4589-9fc2-bda9fc497ca2",
   "metadata": {},
   "outputs": [
    {
     "name": "stdout",
     "output_type": "stream",
     "text": [
      "Parsing Records ...\n",
      "Processed record 0 - EMSC_20110702_0000061_GE_IMMV_\n",
      "Storing metadata to file C:\\Users\\Christopher Brooks\\openquake\\Lib\\site-packages\\smtk\\tests\\parsers\\data\\ESM23_conversion_test_metadata\\metadatafile.pkl\n"
     ]
    }
   ],
   "source": [
    "#Parse flatfile\n",
    "parser = ESM23FlatfileParser.autobuild(\"000\", \"ESM23 Test\", output_database, input_fileset, ESM22_flatfile_directory, output_path_for_converted_flatfile)"
   ]
  },
  {
   "cell_type": "code",
   "execution_count": 4,
   "id": "5ff3fa51-3c73-4f18-851f-279f97d01048",
   "metadata": {},
   "outputs": [],
   "source": [
    "with open(os.path.join(output_database, \"metadatafile.pkl\"), \"rb\") as f:\n",
    "            db = pickle.load(f)"
   ]
  },
  {
   "cell_type": "code",
   "execution_count": 6,
   "id": "46ad5793-a198-49af-a10b-8a5760e0d765",
   "metadata": {},
   "outputs": [
    {
     "data": {
      "text/plain": [
       "9"
      ]
     },
     "execution_count": 6,
     "metadata": {},
     "output_type": "execute_result"
    }
   ],
   "source": [
    "TARGET_IDS = [\n",
    "\"EMSC_20110702_0000061_GE_IMMV_\",\n",
    "\"EMSC_20110728_0000038_GE_KARP_\",\n",
    "\"EMSC_20110801_0000064_GE_KTHA_\",\n",
    "\"EMSC_20110910_0000003_HI_CH01_\",\n",
    "\"EMSC_20110910_0000021_HI_KSS1_\",\n",
    "\"EMSC_20110915_0000035_HI_MYT1_\",\n",
    "\"EMSC_20111025_0000141_HI_NAX1_\",\n",
    "\"EMSC_20111105_0000125_HI_RDI1_\",\n",
    "\"EMSC_20111221_0000032_HI_RGE1_\"]\n",
    "len(TARGET_IDS)"
   ]
  },
  {
   "cell_type": "code",
   "execution_count": 7,
   "id": "fbffc983-4754-4000-a103-a818b0ff8fc2",
   "metadata": {},
   "outputs": [
    {
     "data": {
      "text/plain": [
       "9"
      ]
     },
     "execution_count": 7,
     "metadata": {},
     "output_type": "execute_result"
    }
   ],
   "source": [
    "len(db)"
   ]
  },
  {
   "cell_type": "code",
   "execution_count": 8,
   "id": "54916915-dbd3-424a-9906-7a4e46fda853",
   "metadata": {},
   "outputs": [
    {
     "name": "stdout",
     "output_type": "stream",
     "text": [
      "EMSC_20110702_0000061_GE_IMMV_\n",
      "EMSC_20110728_0000038_GE_KARP_\n",
      "EMSC_20110801_0000064_GE_KTHA_\n",
      "EMSC_20110910_0000003_HI_CH01_\n",
      "EMSC_20110910_0000021_HI_KSS1_\n",
      "EMSC_20110915_0000035_HI_MYT1_\n",
      "EMSC_20111025_0000141_HI_NAX1_\n",
      "EMSC_20111105_0000125_HI_RDI1_\n",
      "EMSC_20111221_0000032_HI_RGE1_\n"
     ]
    }
   ],
   "source": [
    "for rec in db:\n",
    "    print(rec.id)"
   ]
  },
  {
   "cell_type": "code",
   "execution_count": null,
   "id": "fe295532-50f9-47a9-8a3d-4fa0ae8daf7c",
   "metadata": {},
   "outputs": [],
   "source": []
  }
 ],
 "metadata": {
  "kernelspec": {
   "display_name": "Python 3 (ipykernel)",
   "language": "python",
   "name": "python3"
  },
  "language_info": {
   "codemirror_mode": {
    "name": "ipython",
    "version": 3
   },
   "file_extension": ".py",
   "mimetype": "text/x-python",
   "name": "python",
   "nbconvert_exporter": "python",
   "pygments_lexer": "ipython3",
   "version": "3.10.9"
  }
 },
 "nbformat": 4,
 "nbformat_minor": 5
}
